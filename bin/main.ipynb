{
 "cells": [
  {
   "cell_type": "code",
   "execution_count": null,
   "metadata": {},
   "outputs": [],
   "source": [
    "import csv\n",
    "import pandas as pd\n",
    "import numpy as np\n",
    "import seaborn as sns\n",
    "import matplotlib.pyplot as plt\n",
    "\n",
    "from yellowbrick.cluster import KElbowVisualizer\n",
    "from sklearn import preprocessing\n",
    "from sklearn.datasets import make_blobs\n",
    "from sklearn.preprocessing import StandardScaler, LabelEncoder, MinMaxScaler\n",
    "from pyclustering.cluster.cure import cure\n",
    "from pyclustering.cluster import cluster_visualizer\n",
    "\n",
    "from pyclustering.samples.definitions import SIMPLE_SAMPLES\n",
    "from pyclustering.samples.definitions import FCPS_SAMPLES\n",
    "\n",
    "from pyclustering.utils import read_sample\n",
    "from pyclustering.utils import timedcall\n",
    "from sklearn.datasets import make_blobs\n",
    "from mpl_toolkits import mplot3d\n",
    "from sklearn import metrics\n",
    "\n"
   ]
  },
  {
   "cell_type": "markdown",
   "metadata": {},
   "source": [
    "## 1. Preprocessing "
   ]
  },
  {
   "cell_type": "code",
   "execution_count": null,
   "metadata": {},
   "outputs": [
    {
     "data": {
      "text/html": [
       "<div>\n",
       "<style scoped>\n",
       "    .dataframe tbody tr th:only-of-type {\n",
       "        vertical-align: middle;\n",
       "    }\n",
       "\n",
       "    .dataframe tbody tr th {\n",
       "        vertical-align: top;\n",
       "    }\n",
       "\n",
       "    .dataframe thead th {\n",
       "        text-align: right;\n",
       "    }\n",
       "</style>\n",
       "<table border=\"1\" class=\"dataframe\">\n",
       "  <thead>\n",
       "    <tr style=\"text-align: right;\">\n",
       "      <th></th>\n",
       "      <th>Channel</th>\n",
       "      <th>Region</th>\n",
       "      <th>Fresh</th>\n",
       "      <th>Milk</th>\n",
       "      <th>Grocery</th>\n",
       "      <th>Frozen</th>\n",
       "      <th>Detergents_Paper</th>\n",
       "      <th>Delicassen</th>\n",
       "    </tr>\n",
       "  </thead>\n",
       "  <tbody>\n",
       "    <tr>\n",
       "      <th>count</th>\n",
       "      <td>58.000000</td>\n",
       "      <td>58.0</td>\n",
       "      <td>58.000000</td>\n",
       "      <td>58.000000</td>\n",
       "      <td>58.000000</td>\n",
       "      <td>58.000000</td>\n",
       "      <td>58.000000</td>\n",
       "      <td>58.000000</td>\n",
       "    </tr>\n",
       "    <tr>\n",
       "      <th>mean</th>\n",
       "      <td>1.603448</td>\n",
       "      <td>3.0</td>\n",
       "      <td>14465.431034</td>\n",
       "      <td>8203.000000</td>\n",
       "      <td>10509.568966</td>\n",
       "      <td>2132.534483</td>\n",
       "      <td>4026.120690</td>\n",
       "      <td>2208.551724</td>\n",
       "    </tr>\n",
       "    <tr>\n",
       "      <th>std</th>\n",
       "      <td>0.493454</td>\n",
       "      <td>0.0</td>\n",
       "      <td>12424.034595</td>\n",
       "      <td>9365.404286</td>\n",
       "      <td>9167.376757</td>\n",
       "      <td>2438.761364</td>\n",
       "      <td>4332.285022</td>\n",
       "      <td>2664.142712</td>\n",
       "    </tr>\n",
       "    <tr>\n",
       "      <th>min</th>\n",
       "      <td>1.000000</td>\n",
       "      <td>3.0</td>\n",
       "      <td>491.000000</td>\n",
       "      <td>555.000000</td>\n",
       "      <td>902.000000</td>\n",
       "      <td>33.000000</td>\n",
       "      <td>100.000000</td>\n",
       "      <td>46.000000</td>\n",
       "    </tr>\n",
       "    <tr>\n",
       "      <th>25%</th>\n",
       "      <td>1.000000</td>\n",
       "      <td>3.0</td>\n",
       "      <td>5302.250000</td>\n",
       "      <td>3098.500000</td>\n",
       "      <td>4542.750000</td>\n",
       "      <td>496.750000</td>\n",
       "      <td>999.750000</td>\n",
       "      <td>551.000000</td>\n",
       "    </tr>\n",
       "    <tr>\n",
       "      <th>50%</th>\n",
       "      <td>2.000000</td>\n",
       "      <td>3.0</td>\n",
       "      <td>10551.500000</td>\n",
       "      <td>5406.500000</td>\n",
       "      <td>7639.500000</td>\n",
       "      <td>1179.500000</td>\n",
       "      <td>2720.500000</td>\n",
       "      <td>1335.500000</td>\n",
       "    </tr>\n",
       "    <tr>\n",
       "      <th>75%</th>\n",
       "      <td>2.000000</td>\n",
       "      <td>3.0</td>\n",
       "      <td>21528.250000</td>\n",
       "      <td>9801.500000</td>\n",
       "      <td>12388.000000</td>\n",
       "      <td>2571.000000</td>\n",
       "      <td>5488.500000</td>\n",
       "      <td>2887.500000</td>\n",
       "    </tr>\n",
       "    <tr>\n",
       "      <th>max</th>\n",
       "      <td>2.000000</td>\n",
       "      <td>3.0</td>\n",
       "      <td>56159.000000</td>\n",
       "      <td>54259.000000</td>\n",
       "      <td>55571.000000</td>\n",
       "      <td>10002.000000</td>\n",
       "      <td>24171.000000</td>\n",
       "      <td>16523.000000</td>\n",
       "    </tr>\n",
       "  </tbody>\n",
       "</table>\n",
       "</div>"
      ],
      "text/plain": [
       "         Channel  Region         Fresh          Milk       Grocery  \\\n",
       "count  58.000000    58.0     58.000000     58.000000     58.000000   \n",
       "mean    1.603448     3.0  14465.431034   8203.000000  10509.568966   \n",
       "std     0.493454     0.0  12424.034595   9365.404286   9167.376757   \n",
       "min     1.000000     3.0    491.000000    555.000000    902.000000   \n",
       "25%     1.000000     3.0   5302.250000   3098.500000   4542.750000   \n",
       "50%     2.000000     3.0  10551.500000   5406.500000   7639.500000   \n",
       "75%     2.000000     3.0  21528.250000   9801.500000  12388.000000   \n",
       "max     2.000000     3.0  56159.000000  54259.000000  55571.000000   \n",
       "\n",
       "             Frozen  Detergents_Paper    Delicassen  \n",
       "count     58.000000         58.000000     58.000000  \n",
       "mean    2132.534483       4026.120690   2208.551724  \n",
       "std     2438.761364       4332.285022   2664.142712  \n",
       "min       33.000000        100.000000     46.000000  \n",
       "25%      496.750000        999.750000    551.000000  \n",
       "50%     1179.500000       2720.500000   1335.500000  \n",
       "75%     2571.000000       5488.500000   2887.500000  \n",
       "max    10002.000000      24171.000000  16523.000000  "
      ]
     },
     "execution_count": 9,
     "metadata": {},
     "output_type": "execute_result"
    }
   ],
   "source": [
    "#1.1 Khởi tạo dataframe\n",
    "\n",
    "#path = \"..\\data\\diabetic_data.csv\"\n",
    "path = \"..\\data\\data.csv\"\n",
    "df = pd.read_csv(path)\n",
    "df.describe()\n"
   ]
  },
  {
   "cell_type": "code",
   "execution_count": null,
   "metadata": {},
   "outputs": [],
   "source": [
    "# 1.2 EDA\n"
   ]
  },
  {
   "cell_type": "code",
   "execution_count": null,
   "metadata": {},
   "outputs": [
    {
     "data": {
      "text/plain": [
       "(58, 10)"
      ]
     },
     "execution_count": 18,
     "metadata": {},
     "output_type": "execute_result"
    }
   ],
   "source": [
    "# 1.3 Null cleaning"
   ]
  },
  {
   "cell_type": "code",
   "execution_count": 21,
   "metadata": {},
   "outputs": [],
   "source": [
    "# 1.4 Outliers cleaning"
   ]
  },
  {
   "cell_type": "code",
   "execution_count": null,
   "metadata": {},
   "outputs": [],
   "source": [
    "# 1.5 Chuẩn hóa dữ liệu và giảm chiều dữ liệu"
   ]
  },
  {
   "cell_type": "markdown",
   "metadata": {},
   "source": [
    "## 2. CURE Algorithm "
   ]
  },
  {
   "cell_type": "code",
   "execution_count": null,
   "metadata": {},
   "outputs": [],
   "source": [
    "# 2.1 Chạy giải thuật, huấn luyện mô hình và trực quan hóa dữ liệu\n",
    "def "
   ]
  },
  {
   "cell_type": "markdown",
   "metadata": {},
   "source": [
    "## 3. Evaluation"
   ]
  },
  {
   "cell_type": "code",
   "execution_count": null,
   "metadata": {},
   "outputs": [],
   "source": []
  },
  {
   "cell_type": "markdown",
   "metadata": {},
   "source": [
    "## 4. Main "
   ]
  },
  {
   "cell_type": "code",
   "execution_count": null,
   "metadata": {},
   "outputs": [],
   "source": []
  }
 ],
 "metadata": {
  "kernelspec": {
   "display_name": "Python 3",
   "language": "python",
   "name": "python3"
  },
  "language_info": {
   "codemirror_mode": {
    "name": "ipython",
    "version": 3
   },
   "file_extension": ".py",
   "mimetype": "text/x-python",
   "name": "python",
   "nbconvert_exporter": "python",
   "pygments_lexer": "ipython3",
   "version": "3.10.6"
  }
 },
 "nbformat": 4,
 "nbformat_minor": 2
}
